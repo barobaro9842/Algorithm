{
 "cells": [
  {
   "cell_type": "markdown",
   "metadata": {},
   "source": [
    "# Blinked Lottos"
   ]
  },
  {
   "cell_type": "markdown",
   "metadata": {},
   "source": [
    "6개의 번호 중 N개가 지워진 로또의 최대 등수와 최소 등수를 반환하라"
   ]
  },
  {
   "cell_type": "markdown",
   "metadata": {},
   "source": [
    "### Key points\n",
    "- set() 함수를 이용한 빠른 집합연산으로 해결\n",
    "- set() 함수는 해당 리스트를 중복없는 집합으로 바꿔준다.\n",
    "- hash를 이용해 정답과 등수 매칭"
   ]
  },
  {
   "cell_type": "code",
   "execution_count": 123,
   "metadata": {},
   "outputs": [
    {
     "data": {
      "text/plain": [
       "[3, 5]"
      ]
     },
     "execution_count": 123,
     "metadata": {},
     "output_type": "execute_result"
    }
   ],
   "source": [
    "lottos = [44, 1, 0, 0, 31, 25]\n",
    "win_nums = [31, 10, 45, 1, 6 ,19]\n",
    "\n",
    "def solution(lottos, win_nums):\n",
    "    \n",
    "    rank = {0:6, 1:6, 2:5, 3:4, 4:3, 5:2, 6:1} #맞춘개수와 등수를 매칭하기 위한 hash\n",
    "    min_corr = len(set(lottos)&set(win_nums)) #교집합, 일치하는 숫자의 개수, 최소 정답\n",
    "    max_corr = min_corr + lottos.count(0) #0이 모두 정답일 경우, 최대 정답\n",
    "\n",
    "    answer = [rank[max_corr], rank[min_corr]]\n",
    "\n",
    "    return answer\n",
    "\n",
    "solution(lottos, win_nums)"
   ]
  },
  {
   "cell_type": "markdown",
   "metadata": {},
   "source": [
    "# New ID Recommend"
   ]
  },
  {
   "cell_type": "markdown",
   "metadata": {},
   "source": [
    "사용자가 규칙에 맞지 않은 아이디를 입력했을 때, 규칙에 맞는 아이디를 추천해준다.   \n",
    "다음은 아이디의 규칙\n",
    "- 길이는 3자 이상 15자 이하\n",
    "- 소문자, 숫자, (-), (_), (.) 만 사용\n",
    "- 마침표는 처음과 끝에 사용할 수 없고, 연속으로 사용할 수 없다.\n",
    "\n",
    "생성 순서\n",
    "1. 대문자를 소문자로 치환\n",
    "2. 불가능 문자 제거\n",
    "3. 연속 마침표 하나로 치환\n",
    "4. 처음끝 마침표 제거\n",
    "5. 빈 문자열에 a 대입\n",
    "6. 16자 이상이면 16자부터 삭제, 제거후 마침표가 끝이면 제거\n",
    "7. 2자 이하이면 마지막 문자를 길이가 3이 될때까지 반복"
   ]
  },
  {
   "cell_type": "markdown",
   "metadata": {},
   "source": [
    "### Key points\n",
    "- 4단계 빈문자열에 대한 [-1] 인덱싱 더 깔끔한 해결 방법이 있을까\n",
    "- 정규식 사용법"
   ]
  },
  {
   "cell_type": "code",
   "execution_count": 124,
   "metadata": {},
   "outputs": [
    {
     "name": "stdout",
     "output_type": "stream",
     "text": [
      "bat.y.abcdefghi\n",
      "z--\n",
      "aaa\n",
      "123_.def\n",
      "abcdefghijklmn\n"
     ]
    }
   ],
   "source": [
    "def solution(new_id):\n",
    "    special_char = '~!@#$%^&*()=+[{\\]}:?,<>/'\n",
    "\n",
    "    #1단계\n",
    "    new_id = new_id.lower()\n",
    "    #2단계\n",
    "    for i in set(special_char)&set(new_id):\n",
    "        new_id = new_id.replace(i,'')\n",
    "    #3단계\n",
    "    while '..' in new_id:\n",
    "        new_id = new_id.replace('..','.')\n",
    "    #4단계\n",
    "    if new_id[0] == '.':\n",
    "        new_id = new_id[1:]\n",
    "    if len(new_id) > 0:\n",
    "        if new_id[-1] == '.':\n",
    "            new_id = new_id[:-1]\n",
    "    #5단계\n",
    "    if new_id == '':\n",
    "        new_id = 'a'\n",
    "    #6단계\n",
    "    if len(new_id) > 15 :\n",
    "        new_id = new_id[:15]\n",
    "    if new_id[-1] == '.':\n",
    "        new_id = new_id[:-1]\n",
    "    #7단계\n",
    "    while len(new_id) <= 2 :\n",
    "        new_id = new_id + new_id[-1]\n",
    "        \n",
    "    return new_id\n",
    "\n",
    "\n",
    "\n",
    "id = [\"...!@BaT#*..y.abcdefghijklm\",\n",
    "\"z-+.^.\",\n",
    "\"=.=\",\n",
    "\"123_.def\",\n",
    "\"abcdefghijklmn.p\"]\n",
    "\n",
    "for i in id:\n",
    "    print(solution(i))"
   ]
  },
  {
   "cell_type": "code",
   "execution_count": 125,
   "metadata": {},
   "outputs": [
    {
     "data": {
      "text/plain": [
       "'bat.y.abcdefghi'"
      ]
     },
     "execution_count": 125,
     "metadata": {},
     "output_type": "execute_result"
    }
   ],
   "source": [
    "import re\n",
    "\n",
    "def solution(new_id):\n",
    "    st = new_id\n",
    "    st = st.lower() #1단계\n",
    "    st = re.sub('[^a-z0-9\\-_.]', '', st) #2단계\n",
    "    st = re.sub('\\.+', '.', st) #3단계\n",
    "    st = re.sub('^[.]|[.]$', '', st) #4단계\n",
    "    st = 'a' if len(st) == 0 else st[:15] #5 ~ 6단계\n",
    "    st = re.sub('^[.]|[.]$', '', st) # 6단계\n",
    "    st = st if len(st) > 2 else st + \"\".join([st[-1] for i in range(3-len(st))]) #7단계\n",
    "\n",
    "    return st\n",
    "\n",
    "solution(id[0])\n"
   ]
  },
  {
   "cell_type": "markdown",
   "metadata": {},
   "source": [
    "# 숫자 문자열과 영단어"
   ]
  },
  {
   "cell_type": "markdown",
   "metadata": {},
   "source": [
    "일부자리수가 영단어로 바뀐 카드를 보고 원래 숫자를 찾아라   \n",
    "\n",
    "ex)\n",
    "one4seveneight = 1478"
   ]
  },
  {
   "cell_type": "markdown",
   "metadata": {},
   "source": [
    "## Key points\n",
    "\n",
    "- 마지막 형식 주의 str, int\n",
    "- dict 아닌 enumerate 사용도 가능"
   ]
  },
  {
   "cell_type": "code",
   "execution_count": 122,
   "metadata": {},
   "outputs": [
    {
     "data": {
      "text/plain": [
       "1478"
      ]
     },
     "execution_count": 122,
     "metadata": {},
     "output_type": "execute_result"
    }
   ],
   "source": [
    "s = \"one4seveneight\"\n",
    "\n",
    "def solution(s):\n",
    "    str_num = { 0 : 'zero', \n",
    "            1 : 'one',\n",
    "            2 : 'two',\n",
    "            3 : 'three',\n",
    "            4 : 'four',\n",
    "            5 : 'five', \n",
    "            6 : 'six', \n",
    "            7 : 'seven', \n",
    "            8 : 'eight', \n",
    "            9 : 'nine' }\n",
    "\n",
    "    for i in range(10):\n",
    "        s = s.replace(str_num[i],str(i))\n",
    "    return int(s)\n",
    "\n",
    "solution(s)"
   ]
  },
  {
   "cell_type": "code",
   "execution_count": 131,
   "metadata": {},
   "outputs": [
    {
     "data": {
      "text/plain": [
       "1478"
      ]
     },
     "execution_count": 131,
     "metadata": {},
     "output_type": "execute_result"
    }
   ],
   "source": [
    "def solution(s):\n",
    "    str_nums = ['zero', 'one', 'two', 'three', 'four', 'five', 'six', 'seven', 'eight', 'nine']\n",
    "    for i, str_num in enumerate(str_nums):\n",
    "        s = s.replace(str_num,str(i))\n",
    "    return int(s)\n",
    "\n",
    "solution(s)"
   ]
  },
  {
   "cell_type": "markdown",
   "metadata": {},
   "source": [
    "# 키패드 누르기"
   ]
  },
  {
   "cell_type": "markdown",
   "metadata": {},
   "source": [
    "규칙\n",
    "1. 양 엄지손가락은 *와 #에서 출발\n",
    "2. 엄지 손가락은 상하좌우 4가지 방향으로 이동\n",
    "3. 왼쪽 147은 왼손 엄지사용\n",
    "4. 오른쪽 368는 오른손 엄지사용\n",
    "5. 2580입력 시 더 가까운 엄지 사용, 거리가 같으면 주 사용 손을 이용"
   ]
  },
  {
   "cell_type": "markdown",
   "metadata": {},
   "source": [
    "### Key point\n",
    "- 최초 위치 주의\n",
    "- abs는 내장함수다\n",
    "- 깔끔한 코드 만들기"
   ]
  },
  {
   "cell_type": "code",
   "execution_count": 192,
   "metadata": {},
   "outputs": [
    {
     "name": "stdout",
     "output_type": "stream",
     "text": [
      "LRLLLRLLRRL\n"
     ]
    }
   ],
   "source": [
    "numbers = [1, 3, 4, 5, 8, 2, 1, 4, 5, 9, 5]\n",
    "hand = 'right'\n",
    "\n",
    "def solution(numbers, hand):\n",
    "    answer = ''\n",
    "    R_hand = 11\n",
    "    L_hand = 10\n",
    "\n",
    "    key_pad = [[3,1], [0,0], [0,1], [0,2], [1,0], [1,1], [1,2], [2,0], [2,1], [2,2],[3,0],[3,2]]\n",
    "\n",
    "    for num in numbers:\n",
    "        if num in [1,4,7]:\n",
    "            answer += 'L'\n",
    "        elif num in [3,6,9]:\n",
    "            answer += 'R'\n",
    "        \n",
    "        else :\n",
    "            R_x_distance = abs((key_pad[R_hand][0] - key_pad[num][0]))\n",
    "            R_y_distance = abs((key_pad[R_hand][1] - key_pad[num][1]))\n",
    "            L_x_distance = abs((key_pad[L_hand][0] - key_pad[num][0]))\n",
    "            L_y_distance = abs((key_pad[L_hand][1] - key_pad[num][1]))\n",
    "            \n",
    "            R_distance =  R_x_distance + R_y_distance\n",
    "            L_distance =  L_x_distance + L_y_distance\n",
    "\n",
    "            if R_distance == L_distance :\n",
    "                if hand == 'right':\n",
    "                    answer += 'R'\n",
    "                else :\n",
    "                    answer += 'L'\n",
    "            elif R_distance > L_distance :\n",
    "                answer += 'L'\n",
    "            else :\n",
    "                answer += 'R'\n",
    "            \n",
    "        if answer[-1] == 'R':\n",
    "            R_hand = num\n",
    "        else :\n",
    "            L_hand = num\n",
    "\n",
    "    return answer\n",
    "\n",
    "print(solution(numbers, hand))"
   ]
  },
  {
   "cell_type": "markdown",
   "metadata": {},
   "source": [
    "# 크레인 인형뽑기 (non_solve)"
   ]
  },
  {
   "cell_type": "markdown",
   "metadata": {},
   "source": [
    "크레인을 움직여 인형을 뽑는다. 같은 인형이 2개 모이면 터진다. 인형의 배열과 이동 순서를 보고 몇개의 인형이 터졌는지 구하라"
   ]
  },
  {
   "cell_type": "code",
   "execution_count": 283,
   "metadata": {},
   "outputs": [
    {
     "data": {
      "text/plain": [
       "4"
      ]
     },
     "execution_count": 283,
     "metadata": {},
     "output_type": "execute_result"
    }
   ],
   "source": [
    "board = [[0,0,0,0,0],[0,0,1,0,3],[0,2,5,0,1],[4,2,4,4,2],[3,5,1,3,1]]\n",
    "moves = [1,5,3,5,1,2,1,4]\n",
    "\n",
    "def solution(board, moves):\n",
    "    answer = 0\n",
    "    basket = []\n",
    "    for move in moves :\n",
    "        for i, doll in enumerate(board[move-1]):\n",
    "            if doll == 0:\n",
    "                continue\n",
    "            else :\n",
    "                basket.append(doll)\n",
    "                board[i][move-1] == 0\n",
    "\n",
    "    len_of_basket = len(basket)\n",
    "    i = 0\n",
    "    while i < len_of_basket-1:\n",
    "        i += 1\n",
    "        if i >= 1 :\n",
    "            if basket[i] == basket[i-1]:\n",
    "                basket.pop(i-1)\n",
    "                basket.pop(i-1)\n",
    "                i -= 2\n",
    "                answer += 1\n",
    "                len_of_basket = len(basket)        \n",
    "    \n",
    "    return answer\n",
    "\n",
    "solution(board, moves)"
   ]
  },
  {
   "cell_type": "code",
   "execution_count": 1,
   "metadata": {},
   "outputs": [],
   "source": [
    "import sys"
   ]
  },
  {
   "cell_type": "code",
   "execution_count": 3,
   "metadata": {},
   "outputs": [],
   "source": [
    "a = sys.stdin.readline().rstrip()"
   ]
  },
  {
   "cell_type": "code",
   "execution_count": 4,
   "metadata": {},
   "outputs": [
    {
     "data": {
      "text/plain": [
       "''"
      ]
     },
     "execution_count": 4,
     "metadata": {},
     "output_type": "execute_result"
    }
   ],
   "source": [
    "a"
   ]
  },
  {
   "cell_type": "code",
   "execution_count": null,
   "metadata": {},
   "outputs": [],
   "source": []
  }
 ],
 "metadata": {
  "interpreter": {
   "hash": "2c22fb7276c99cbe4289f996b9d345443ec81b91bb21993862b0c96fb979599d"
  },
  "kernelspec": {
   "display_name": "Python 3 (ipykernel)",
   "language": "python",
   "name": "python3"
  },
  "language_info": {
   "codemirror_mode": {
    "name": "ipython",
    "version": 3
   },
   "file_extension": ".py",
   "mimetype": "text/x-python",
   "name": "python",
   "nbconvert_exporter": "python",
   "pygments_lexer": "ipython3",
   "version": "3.8.12"
  }
 },
 "nbformat": 4,
 "nbformat_minor": 4
}
